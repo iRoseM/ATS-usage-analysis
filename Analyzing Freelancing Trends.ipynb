{
 "cells": [
  {
   "cell_type": "markdown",
   "metadata": {},
   "source": [
    "# **Analyzing Freelancing Trends and Sustainability**\n",
    "\n",
    "## **1. Introduction:**\n",
    "Freelancing has become a popular career path due to its flexibility and the opportunities it provides across various fields. However, several questions arise regarding its sustainability, income stability, and the demographics of those engaging in this type of work. Understanding freelancing trends can help clarify whether freelancing is a sustainable career choice, identify income patterns, and determine the demographics of freelancers, such as  examining whether freelancing is a sustainable career path, identifying countries with the highest concentration of skilled freelancers and more."
   ]
  },
  {
   "cell_type": "markdown",
   "metadata": {},
   "source": [
    "## **2.\tData sources:**\n"
   ]
  },
  {
   "cell_type": "code",
   "execution_count": 1,
   "metadata": {},
   "outputs": [
    {
     "name": "stdout",
     "output_type": "stream",
     "text": [
      "    Freelancer Name       Hourly Rate  \\\n",
      "0        mikehurley  $15 USD per hour   \n",
      "1            Tafsol  $45 USD per hour   \n",
      "2       seo4quality   $2 USD per hour   \n",
      "3      Amarkhan7010  $20 USD per hour   \n",
      "4        Ibrahim185  $20 USD per hour   \n",
      "..              ...               ...   \n",
      "695    hxstudio2021  $70 USD per hour   \n",
      "696    Lutforlite12  $23 USD per hour   \n",
      "697      shahsaif99  $25 USD per hour   \n",
      "698   hassanqaim219  $25 USD per hour   \n",
      "699    igorsavinkin  $40 USD per hour   \n",
      "\n",
      "                                                Skills    Location  \\\n",
      "0    SEO, Link Building, Google Adwords, WordPress,...       India   \n",
      "1    Website Design, PHP, HTML, Graphic Design, Sof...    Pakistan   \n",
      "2    SEO, Internet Marketing, Link Building, Market...       India   \n",
      "3    Video Services, Video Editing, Video Productio...    Pakistan   \n",
      "4    Data Entry, Excel, Web Search, Data Processing...  Bangladesh   \n",
      "..                                                 ...         ...   \n",
      "695  Graphic Design, Website Design, Logo Design, P...    Pakistan   \n",
      "696  Logo Design, Graphic Design, Photoshop, Illust...  Bangladesh   \n",
      "697         Laravel, PHP, Website Design, HTML, Vue.js    Pakistan   \n",
      "698  Graphic Design, Website Design, PHP, HTML, Wor...    Pakistan   \n",
      "699                 JavaScript, PHP, MySQL, HTML, .NET      Latvia   \n",
      "\n",
      "                                               Reviews  \\\n",
      "0    6948 reviews\\n                    \\n\\n        ...   \n",
      "1    191 reviews\\n                    \\n\\n         ...   \n",
      "2    1806 reviews\\n                    \\n\\n        ...   \n",
      "3    841 reviews\\n                    \\n\\n         ...   \n",
      "4    1384 reviews\\n                    \\n\\n        ...   \n",
      "..                                                 ...   \n",
      "695  44 reviews\\n                    \\n\\n          ...   \n",
      "696  18 reviews\\n                    \\n\\n          ...   \n",
      "697  26 reviews\\n                    \\n\\n          ...   \n",
      "698  46 reviews\\n                    \\n\\n          ...   \n",
      "699  17 reviews\\n                    \\n\\n          ...   \n",
      "\n",
      "                                                   Bio  \n",
      "0    6800 ⭐⭐⭐⭐⭐+ Reviews,\\n\\n2000+ satisfied client...  \n",
      "1    TAFSOL TECHNOLOGIES Group!!\\n\\nAiming to deliv...  \n",
      "2    1800 ⭐⭐⭐⭐⭐+ Reviews\\n\\n⭐ 1800+ satisfied clien...  \n",
      "3    I m Video Editor from last 15 years. I have sk...  \n",
      "4    With well over a decade-worth of experience, I...  \n",
      "..                                                 ...  \n",
      "695  As a professional multi-talented graphics desi...  \n",
      "696  Hi there! I am Lutfor. I'm a Qualified profess...  \n",
      "697  \"Syed is an expert in Website development, hav...  \n",
      "698  Let's collaborate to transform your vision int...  \n",
      "699  I'm a full-stack web developer, graduated with...  \n",
      "\n",
      "[700 rows x 6 columns]\n"
     ]
    }
   ],
   "source": [
    "import requests\n",
    "from bs4 import BeautifulSoup\n",
    "import pandas as pd\n",
    "\n",
    "num_pages = 70\n",
    "base_url = \"https://www.freelancer.com/freelancers/\"\n",
    "\n",
    "data = []\n",
    "\n",
    "for page in range(1, num_pages + 1):\n",
    "    url = f\"{base_url}{page}\"\n",
    "    response = requests.get(url)\n",
    "\n",
    "    if response.status_code == 200:\n",
    "        soup = BeautifulSoup(response.text, 'html.parser')\n",
    "        freelancers = soup.find_all('div', class_='directory-freelancer-item-container')\n",
    "\n",
    "        for freelancer in freelancers:\n",
    "            name = freelancer.find('a', class_='find-freelancer-username')\n",
    "            name = name.text.strip() if name else 'N/A'\n",
    "\n",
    "\n",
    "            hourly_rate = freelancer.find('span', class_='user-hourly-rate freelancer-hourlyrate')\n",
    "            hourly_rate = hourly_rate.text.strip() if hourly_rate else 'N/A'\n",
    "\n",
    "            skills = [skill.text.strip() for skill in freelancer.find_all('a', style='color:black;')]\n",
    "            skills = ', '.join(skills) if skills else 'N/A'\n",
    "\n",
    "            location = freelancer.find('div', class_='user-location')\n",
    "            location = location.text.strip() if location else 'N/A'\n",
    "\n",
    "            reviews = freelancer.find('span', class_='Rating-review')\n",
    "            reviews = reviews.text.strip() if reviews else 'N/A'\n",
    "\n",
    "            bio = freelancer.find('div', class_='bio cleanProfile')\n",
    "            bio = bio.text.strip() if bio else 'N/A'\n",
    "\n",
    "            data.append({\n",
    "                'Freelancer Name': name,\n",
    "                'Hourly Rate': hourly_rate,\n",
    "                'Skills': skills,\n",
    "                'Location': location,\n",
    "                'Reviews': reviews,\n",
    "                'Bio': bio\n",
    "            })\n",
    "    else:\n",
    "        print(f\"Failed to retrieve page {page}, status code: {response.status_code}\")\n",
    "\n",
    "df = pd.DataFrame(data)\n",
    "df.to_csv('freelancer_data.csv', index=False)\n",
    "\n",
    "print(df)"
   ]
  },
  {
   "cell_type": "markdown",
   "metadata": {},
   "source": []
  }
 ],
 "metadata": {
  "kernelspec": {
   "display_name": "Python 3",
   "language": "python",
   "name": "python3"
  },
  "language_info": {
   "codemirror_mode": {
    "name": "ipython",
    "version": 3
   },
   "file_extension": ".py",
   "mimetype": "text/x-python",
   "name": "python",
   "nbconvert_exporter": "python",
   "pygments_lexer": "ipython3",
   "version": "3.12.5"
  }
 },
 "nbformat": 4,
 "nbformat_minor": 2
}
